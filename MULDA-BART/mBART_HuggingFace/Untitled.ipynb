{
 "cells": [
  {
   "cell_type": "code",
   "execution_count": 2,
   "id": "1e971304",
   "metadata": {},
   "outputs": [
    {
     "name": "stdout",
     "output_type": "stream",
     "text": [
      "Found device: NVIDIA GeForce MX130, n_gpu: 1\n"
     ]
    }
   ],
   "source": [
    "import torch\n",
    "\n",
    "# Confirm that the GPU is detected\n",
    "\n",
    "assert torch.cuda.is_available()\n",
    "\n",
    "#Get the GPU device name.\n",
    "\n",
    "device_name = torch.cuda.get_device_name()\n",
    "n_gpu = torch.cuda.device_count()\n",
    "print(f\"Found device: {device_name}, n_gpu: {n_gpu}\")\n",
    "device = torch.device(\"cuda\")\n",
    "\n",
    "#device = torch.device(\"cpu\")"
   ]
  },
  {
   "cell_type": "code",
   "execution_count": 3,
   "id": "981aee94",
   "metadata": {},
   "outputs": [
    {
     "name": "stdout",
     "output_type": "stream",
     "text": [
      "Requirement already satisfied: torch in c:\\users\\aman\\anaconda3\\lib\\site-packages (1.13.1+cu116)\n",
      "Requirement already satisfied: typing-extensions in c:\\users\\aman\\anaconda3\\lib\\site-packages (from torch) (4.4.0)\n",
      "Collecting transformers[torch]\n",
      "  Downloading transformers-4.29.1-py3-none-any.whl (7.1 MB)\n",
      "     ---------------------------------------- 7.1/7.1 MB 6.3 MB/s eta 0:00:00\n",
      "Requirement already satisfied: filelock in c:\\users\\aman\\anaconda3\\lib\\site-packages (from transformers[torch]) (3.9.0)\n",
      "Requirement already satisfied: requests in c:\\users\\aman\\anaconda3\\lib\\site-packages (from transformers[torch]) (2.28.1)\n",
      "Requirement already satisfied: packaging>=20.0 in c:\\users\\aman\\anaconda3\\lib\\site-packages (from transformers[torch]) (22.0)\n",
      "Collecting tokenizers!=0.11.3,<0.14,>=0.11.1\n",
      "  Downloading tokenizers-0.13.3-cp39-cp39-win_amd64.whl (3.5 MB)\n",
      "     ---------------------------------------- 3.5/3.5 MB 13.0 MB/s eta 0:00:00\n",
      "Collecting huggingface-hub<1.0,>=0.14.1\n",
      "  Downloading huggingface_hub-0.14.1-py3-none-any.whl (224 kB)\n",
      "     ---------------------------------------- 224.5/224.5 kB ? eta 0:00:00\n",
      "Requirement already satisfied: pyyaml>=5.1 in c:\\users\\aman\\anaconda3\\lib\\site-packages (from transformers[torch]) (6.0)\n",
      "Requirement already satisfied: numpy>=1.17 in c:\\users\\aman\\anaconda3\\lib\\site-packages (from transformers[torch]) (1.23.5)\n",
      "Requirement already satisfied: tqdm>=4.27 in c:\\users\\aman\\anaconda3\\lib\\site-packages (from transformers[torch]) (4.64.1)\n",
      "Requirement already satisfied: regex!=2019.12.17 in c:\\users\\aman\\anaconda3\\lib\\site-packages (from transformers[torch]) (2022.7.9)\n",
      "Requirement already satisfied: torch!=1.12.0,>=1.9 in c:\\users\\aman\\anaconda3\\lib\\site-packages (from transformers[torch]) (1.13.1+cu116)\n",
      "Collecting accelerate>=0.19.0\n",
      "  Downloading accelerate-0.19.0-py3-none-any.whl (219 kB)\n",
      "     ------------------------------------- 219.1/219.1 kB 13.1 MB/s eta 0:00:00\n",
      "Requirement already satisfied: psutil in c:\\users\\aman\\anaconda3\\lib\\site-packages (from accelerate>=0.19.0->transformers[torch]) (5.9.0)\n",
      "Requirement already satisfied: fsspec in c:\\users\\aman\\anaconda3\\lib\\site-packages (from huggingface-hub<1.0,>=0.14.1->transformers[torch]) (2022.11.0)\n",
      "Requirement already satisfied: typing-extensions>=3.7.4.3 in c:\\users\\aman\\anaconda3\\lib\\site-packages (from huggingface-hub<1.0,>=0.14.1->transformers[torch]) (4.4.0)\n",
      "Requirement already satisfied: colorama in c:\\users\\aman\\anaconda3\\lib\\site-packages (from tqdm>=4.27->transformers[torch]) (0.4.6)\n",
      "Requirement already satisfied: idna<4,>=2.5 in c:\\users\\aman\\anaconda3\\lib\\site-packages (from requests->transformers[torch]) (3.4)\n",
      "Requirement already satisfied: urllib3<1.27,>=1.21.1 in c:\\users\\aman\\anaconda3\\lib\\site-packages (from requests->transformers[torch]) (1.26.14)\n",
      "Requirement already satisfied: certifi>=2017.4.17 in c:\\users\\aman\\anaconda3\\lib\\site-packages (from requests->transformers[torch]) (2022.12.7)\n",
      "Requirement already satisfied: charset-normalizer<3,>=2 in c:\\users\\aman\\anaconda3\\lib\\site-packages (from requests->transformers[torch]) (2.0.4)\n",
      "Installing collected packages: tokenizers, huggingface-hub, accelerate, transformers\n",
      "  Attempting uninstall: huggingface-hub\n",
      "    Found existing installation: huggingface-hub 0.11.1\n",
      "    Uninstalling huggingface-hub-0.11.1:\n",
      "      Successfully uninstalled huggingface-hub-0.11.1\n",
      "Successfully installed accelerate-0.19.0 huggingface-hub-0.14.1 tokenizers-0.13.3 transformers-4.29.1\n",
      "Requirement already satisfied: datasets in c:\\users\\aman\\anaconda3\\lib\\site-packages (2.8.0)\n",
      "Requirement already satisfied: dill<0.3.7 in c:\\users\\aman\\anaconda3\\lib\\site-packages (from datasets) (0.3.6)\n",
      "Requirement already satisfied: numpy>=1.17 in c:\\users\\aman\\anaconda3\\lib\\site-packages (from datasets) (1.23.5)\n",
      "Requirement already satisfied: pandas in c:\\users\\aman\\anaconda3\\lib\\site-packages (from datasets) (1.4.4)\n",
      "Requirement already satisfied: pyyaml>=5.1 in c:\\users\\aman\\anaconda3\\lib\\site-packages (from datasets) (6.0)\n",
      "Requirement already satisfied: multiprocess in c:\\users\\aman\\anaconda3\\lib\\site-packages (from datasets) (0.70.14)\n",
      "Requirement already satisfied: responses<0.19 in c:\\users\\aman\\anaconda3\\lib\\site-packages (from datasets) (0.18.0)\n",
      "Requirement already satisfied: tqdm>=4.62.1 in c:\\users\\aman\\anaconda3\\lib\\site-packages (from datasets) (4.64.1)\n",
      "Requirement already satisfied: xxhash in c:\\users\\aman\\anaconda3\\lib\\site-packages (from datasets) (3.2.0)\n",
      "Requirement already satisfied: fsspec[http]>=2021.11.1 in c:\\users\\aman\\anaconda3\\lib\\site-packages (from datasets) (2022.11.0)\n",
      "Requirement already satisfied: requests>=2.19.0 in c:\\users\\aman\\anaconda3\\lib\\site-packages (from datasets) (2.28.1)\n",
      "Requirement already satisfied: pyarrow>=6.0.0 in c:\\users\\aman\\anaconda3\\lib\\site-packages (from datasets) (8.0.0)\n",
      "Requirement already satisfied: aiohttp in c:\\users\\aman\\anaconda3\\lib\\site-packages (from datasets) (3.8.3)\n",
      "Requirement already satisfied: huggingface-hub<1.0.0,>=0.2.0 in c:\\users\\aman\\anaconda3\\lib\\site-packages (from datasets) (0.14.1)\n",
      "Requirement already satisfied: packaging in c:\\users\\aman\\anaconda3\\lib\\site-packages (from datasets) (22.0)\n",
      "Requirement already satisfied: attrs>=17.3.0 in c:\\users\\aman\\anaconda3\\lib\\site-packages (from aiohttp->datasets) (22.1.0)\n",
      "Requirement already satisfied: charset-normalizer<3.0,>=2.0 in c:\\users\\aman\\anaconda3\\lib\\site-packages (from aiohttp->datasets) (2.0.4)\n",
      "Requirement already satisfied: yarl<2.0,>=1.0 in c:\\users\\aman\\anaconda3\\lib\\site-packages (from aiohttp->datasets) (1.8.1)\n",
      "Requirement already satisfied: frozenlist>=1.1.1 in c:\\users\\aman\\anaconda3\\lib\\site-packages (from aiohttp->datasets) (1.3.3)\n",
      "Requirement already satisfied: multidict<7.0,>=4.5 in c:\\users\\aman\\anaconda3\\lib\\site-packages (from aiohttp->datasets) (6.0.2)\n",
      "Requirement already satisfied: aiosignal>=1.1.2 in c:\\users\\aman\\anaconda3\\lib\\site-packages (from aiohttp->datasets) (1.2.0)\n",
      "Requirement already satisfied: async-timeout<5.0,>=4.0.0a3 in c:\\users\\aman\\anaconda3\\lib\\site-packages (from aiohttp->datasets) (4.0.2)\n",
      "Requirement already satisfied: filelock in c:\\users\\aman\\anaconda3\\lib\\site-packages (from huggingface-hub<1.0.0,>=0.2.0->datasets) (3.9.0)\n",
      "Requirement already satisfied: typing-extensions>=3.7.4.3 in c:\\users\\aman\\anaconda3\\lib\\site-packages (from huggingface-hub<1.0.0,>=0.2.0->datasets) (4.4.0)\n",
      "Requirement already satisfied: idna<4,>=2.5 in c:\\users\\aman\\anaconda3\\lib\\site-packages (from requests>=2.19.0->datasets) (3.4)\n",
      "Requirement already satisfied: certifi>=2017.4.17 in c:\\users\\aman\\anaconda3\\lib\\site-packages (from requests>=2.19.0->datasets) (2022.12.7)\n",
      "Requirement already satisfied: urllib3<1.27,>=1.21.1 in c:\\users\\aman\\anaconda3\\lib\\site-packages (from requests>=2.19.0->datasets) (1.26.14)\n",
      "Requirement already satisfied: colorama in c:\\users\\aman\\anaconda3\\lib\\site-packages (from tqdm>=4.62.1->datasets) (0.4.6)\n",
      "Requirement already satisfied: pytz>=2020.1 in c:\\users\\aman\\anaconda3\\lib\\site-packages (from pandas->datasets) (2022.7)\n",
      "Requirement already satisfied: python-dateutil>=2.8.1 in c:\\users\\aman\\anaconda3\\lib\\site-packages (from pandas->datasets) (2.8.2)\n",
      "Requirement already satisfied: six>=1.5 in c:\\users\\aman\\anaconda3\\lib\\site-packages (from python-dateutil>=2.8.1->pandas->datasets) (1.16.0)\n",
      "Collecting seqeval\n",
      "  Downloading seqeval-1.2.2.tar.gz (43 kB)\n",
      "     ---------------------------------------- 43.6/43.6 kB 2.1 MB/s eta 0:00:00\n",
      "  Preparing metadata (setup.py): started\n",
      "  Preparing metadata (setup.py): finished with status 'done'\n",
      "Requirement already satisfied: numpy>=1.14.0 in c:\\users\\aman\\anaconda3\\lib\\site-packages (from seqeval) (1.23.5)\n",
      "Requirement already satisfied: scikit-learn>=0.21.3 in c:\\users\\aman\\anaconda3\\lib\\site-packages (from seqeval) (1.2.0)\n",
      "Requirement already satisfied: scipy>=1.3.2 in c:\\users\\aman\\anaconda3\\lib\\site-packages (from scikit-learn>=0.21.3->seqeval) (1.9.3)\n",
      "Requirement already satisfied: threadpoolctl>=2.0.0 in c:\\users\\aman\\anaconda3\\lib\\site-packages (from scikit-learn>=0.21.3->seqeval) (2.2.0)\n",
      "Requirement already satisfied: joblib>=1.1.1 in c:\\users\\aman\\anaconda3\\lib\\site-packages (from scikit-learn>=0.21.3->seqeval) (1.1.1)\n",
      "Building wheels for collected packages: seqeval\n",
      "  Building wheel for seqeval (setup.py): started\n",
      "  Building wheel for seqeval (setup.py): finished with status 'done'\n",
      "  Created wheel for seqeval: filename=seqeval-1.2.2-py3-none-any.whl size=16165 sha256=46e8b6cad54d031ccf139b4b1b5d6f1534d50d9924afa7a171917cb86c1d40df\n",
      "  Stored in directory: c:\\users\\aman\\appdata\\local\\pip\\cache\\wheels\\9c\\d6\\00\\1ccfd5a7466a94774e00022683d4b028836032dfb85007822b\n",
      "Successfully built seqeval\n",
      "Installing collected packages: seqeval\n",
      "Successfully installed seqeval-1.2.2\n"
     ]
    },
    {
     "name": "stdout",
     "output_type": "stream",
     "text": [
      "Collecting ray[tune]\n",
      "  Downloading ray-2.4.0-cp39-cp39-win_amd64.whl (21.7 MB)\n",
      "     --------------------------------------- 21.7/21.7 MB 24.2 MB/s eta 0:00:00\n",
      "Requirement already satisfied: pyyaml in c:\\users\\aman\\anaconda3\\lib\\site-packages (from ray[tune]) (6.0)\n",
      "Requirement already satisfied: attrs in c:\\users\\aman\\anaconda3\\lib\\site-packages (from ray[tune]) (22.1.0)\n",
      "Requirement already satisfied: msgpack<2.0.0,>=1.0.0 in c:\\users\\aman\\anaconda3\\lib\\site-packages (from ray[tune]) (1.0.3)\n",
      "Requirement already satisfied: click>=7.0 in c:\\users\\aman\\anaconda3\\lib\\site-packages (from ray[tune]) (8.0.4)\n",
      "Requirement already satisfied: numpy>=1.19.3 in c:\\users\\aman\\anaconda3\\lib\\site-packages (from ray[tune]) (1.23.5)\n",
      "Requirement already satisfied: aiosignal in c:\\users\\aman\\anaconda3\\lib\\site-packages (from ray[tune]) (1.2.0)\n",
      "Collecting virtualenv<20.21.1,>=20.0.24\n",
      "  Downloading virtualenv-20.21.0-py3-none-any.whl (8.7 MB)\n",
      "     ---------------------------------------- 8.7/8.7 MB 27.9 MB/s eta 0:00:00\n",
      "Requirement already satisfied: filelock in c:\\users\\aman\\anaconda3\\lib\\site-packages (from ray[tune]) (3.9.0)\n",
      "Requirement already satisfied: frozenlist in c:\\users\\aman\\anaconda3\\lib\\site-packages (from ray[tune]) (1.3.3)\n",
      "Requirement already satisfied: requests in c:\\users\\aman\\anaconda3\\lib\\site-packages (from ray[tune]) (2.28.1)\n",
      "Requirement already satisfied: protobuf!=3.19.5,>=3.15.3 in c:\\users\\aman\\anaconda3\\lib\\site-packages (from ray[tune]) (4.22.3)\n",
      "Collecting grpcio<=1.51.3,>=1.32.0\n",
      "  Downloading grpcio-1.51.3-cp39-cp39-win_amd64.whl (3.7 MB)\n",
      "     ---------------------------------------- 3.7/3.7 MB 34.2 MB/s eta 0:00:00\n",
      "Requirement already satisfied: jsonschema in c:\\users\\aman\\anaconda3\\lib\\site-packages (from ray[tune]) (4.16.0)\n",
      "Requirement already satisfied: tabulate in c:\\users\\aman\\anaconda3\\lib\\site-packages (from ray[tune]) (0.8.10)\n",
      "Requirement already satisfied: pandas in c:\\users\\aman\\anaconda3\\lib\\site-packages (from ray[tune]) (1.4.4)\n",
      "Collecting tensorboardX>=1.9\n",
      "  Using cached tensorboardX-2.6-py2.py3-none-any.whl (114 kB)\n",
      "Requirement already satisfied: colorama in c:\\users\\aman\\anaconda3\\lib\\site-packages (from click>=7.0->ray[tune]) (0.4.6)\n",
      "Collecting protobuf!=3.19.5,>=3.15.3\n",
      "  Downloading protobuf-3.20.3-cp39-cp39-win_amd64.whl (904 kB)\n",
      "     ------------------------------------- 904.2/904.2 kB 28.8 MB/s eta 0:00:00\n",
      "Requirement already satisfied: packaging in c:\\users\\aman\\anaconda3\\lib\\site-packages (from tensorboardX>=1.9->ray[tune]) (22.0)\n",
      "Collecting distlib<1,>=0.3.6\n",
      "  Downloading distlib-0.3.6-py2.py3-none-any.whl (468 kB)\n",
      "     ---------------------------------------- 468.5/468.5 kB ? eta 0:00:00\n",
      "Requirement already satisfied: platformdirs<4,>=2.4 in c:\\users\\aman\\anaconda3\\lib\\site-packages (from virtualenv<20.21.1,>=20.0.24->ray[tune]) (2.5.2)\n",
      "Requirement already satisfied: pyrsistent!=0.17.0,!=0.17.1,!=0.17.2,>=0.14.0 in c:\\users\\aman\\anaconda3\\lib\\site-packages (from jsonschema->ray[tune]) (0.18.0)\n",
      "Requirement already satisfied: pytz>=2020.1 in c:\\users\\aman\\anaconda3\\lib\\site-packages (from pandas->ray[tune]) (2022.7)\n",
      "Requirement already satisfied: python-dateutil>=2.8.1 in c:\\users\\aman\\anaconda3\\lib\\site-packages (from pandas->ray[tune]) (2.8.2)\n",
      "Requirement already satisfied: certifi>=2017.4.17 in c:\\users\\aman\\anaconda3\\lib\\site-packages (from requests->ray[tune]) (2022.12.7)\n",
      "Requirement already satisfied: idna<4,>=2.5 in c:\\users\\aman\\anaconda3\\lib\\site-packages (from requests->ray[tune]) (3.4)\n",
      "Requirement already satisfied: urllib3<1.27,>=1.21.1 in c:\\users\\aman\\anaconda3\\lib\\site-packages (from requests->ray[tune]) (1.26.14)\n",
      "Requirement already satisfied: charset-normalizer<3,>=2 in c:\\users\\aman\\anaconda3\\lib\\site-packages (from requests->ray[tune]) (2.0.4)\n",
      "Requirement already satisfied: six>=1.5 in c:\\users\\aman\\anaconda3\\lib\\site-packages (from python-dateutil>=2.8.1->pandas->ray[tune]) (1.16.0)\n",
      "Installing collected packages: distlib, virtualenv, protobuf, grpcio, tensorboardX, ray\n",
      "  Attempting uninstall: protobuf\n",
      "    Found existing installation: protobuf 4.22.3\n",
      "    Uninstalling protobuf-4.22.3:\n",
      "      Successfully uninstalled protobuf-4.22.3\n",
      "  Attempting uninstall: grpcio\n",
      "    Found existing installation: grpcio 1.54.0\n",
      "    Uninstalling grpcio-1.54.0:\n",
      "      Successfully uninstalled grpcio-1.54.0\n",
      "Successfully installed distlib-0.3.6 grpcio-1.51.3 protobuf-3.20.3 ray-2.4.0 tensorboardX-2.6 virtualenv-20.21.0\n"
     ]
    },
    {
     "name": "stderr",
     "output_type": "stream",
     "text": [
      "ERROR: pip's dependency resolver does not currently take into account all the packages that are installed. This behaviour is the source of the following dependency conflicts.\n",
      "tensorflow 2.10.0 requires protobuf<3.20,>=3.9.2, but you have protobuf 3.20.3 which is incompatible.\n",
      "tensorboard 2.10.0 requires protobuf<3.20,>=3.9.2, but you have protobuf 3.20.3 which is incompatible.\n",
      "grpcio-status 1.54.0 requires grpcio>=1.54.0, but you have grpcio 1.51.3 which is incompatible.\n",
      "grpcio-status 1.54.0 requires protobuf>=4.21.6, but you have protobuf 3.20.3 which is incompatible.\n"
     ]
    },
    {
     "name": "stdout",
     "output_type": "stream",
     "text": [
      "Collecting git+https://github.com/huggingface/accelerate\n",
      "  Cloning https://github.com/huggingface/accelerate to c:\\users\\aman\\appdata\\local\\temp\\pip-req-build-08nf_o0d\n",
      "  Resolved https://github.com/huggingface/accelerate to commit dcde1e93d09abea02a8e7f4a07a2c5734b87b60e\n",
      "  Installing build dependencies: started\n",
      "  Installing build dependencies: finished with status 'done'\n",
      "  Getting requirements to build wheel: started\n",
      "  Getting requirements to build wheel: finished with status 'done'\n",
      "  Preparing metadata (pyproject.toml): started\n",
      "  Preparing metadata (pyproject.toml): finished with status 'done'\n",
      "Requirement already satisfied: psutil in c:\\users\\aman\\anaconda3\\lib\\site-packages (from accelerate==0.20.0.dev0) (5.9.0)\n",
      "Requirement already satisfied: torch>=1.6.0 in c:\\users\\aman\\anaconda3\\lib\\site-packages (from accelerate==0.20.0.dev0) (1.13.1+cu116)\n",
      "Requirement already satisfied: packaging>=20.0 in c:\\users\\aman\\anaconda3\\lib\\site-packages (from accelerate==0.20.0.dev0) (22.0)\n",
      "Requirement already satisfied: pyyaml in c:\\users\\aman\\anaconda3\\lib\\site-packages (from accelerate==0.20.0.dev0) (6.0)\n",
      "Requirement already satisfied: numpy>=1.17 in c:\\users\\aman\\anaconda3\\lib\\site-packages (from accelerate==0.20.0.dev0) (1.23.5)\n",
      "Requirement already satisfied: typing-extensions in c:\\users\\aman\\anaconda3\\lib\\site-packages (from torch>=1.6.0->accelerate==0.20.0.dev0) (4.4.0)\n",
      "Building wheels for collected packages: accelerate\n",
      "  Building wheel for accelerate (pyproject.toml): started\n",
      "  Building wheel for accelerate (pyproject.toml): finished with status 'done'\n",
      "  Created wheel for accelerate: filename=accelerate-0.20.0.dev0-py3-none-any.whl size=224465 sha256=31a58a470dde353baacf4d4ee2c5ebf092ed72b0216f63722c14f3e72436e9c4\n",
      "  Stored in directory: C:\\Users\\Aman\\AppData\\Local\\Temp\\pip-ephem-wheel-cache-iil2uk3v\\wheels\\f0\\e3\\1c\\5f57b1bee1a190bc85fa69b9ec3d3aaab6a120724e5ca00a60\n",
      "Successfully built accelerate\n",
      "Installing collected packages: accelerate\n",
      "  Attempting uninstall: accelerate\n",
      "    Found existing installation: accelerate 0.19.0\n",
      "    Uninstalling accelerate-0.19.0:\n",
      "      Successfully uninstalled accelerate-0.19.0\n",
      "Successfully installed accelerate-0.20.0.dev0\n"
     ]
    },
    {
     "name": "stderr",
     "output_type": "stream",
     "text": [
      "  Running command git clone --filter=blob:none --quiet https://github.com/huggingface/accelerate 'C:\\Users\\Aman\\AppData\\Local\\Temp\\pip-req-build-08nf_o0d'\n"
     ]
    }
   ],
   "source": [
    "!pip install torch\n",
    "!pip install transformers[torch]\n",
    "!pip install -U -q PyDrive\n",
    "!pip install datasets\n",
    "!pip install seqeval\n",
    "!pip install ray[tune]\n",
    "!pip install git+https://github.com/huggingface/accelerate"
   ]
  },
  {
   "cell_type": "code",
   "execution_count": 4,
   "id": "2c659cf5",
   "metadata": {},
   "outputs": [
    {
     "name": "stdout",
     "output_type": "stream",
     "text": [
      "4.29.1\n",
      "0.20.0.dev0\n"
     ]
    }
   ],
   "source": [
    "import transformers\n",
    "print(transformers.__version__)\n",
    "import accelerate\n",
    "print(accelerate.__version__)"
   ]
  },
  {
   "cell_type": "code",
   "execution_count": 5,
   "id": "6a69fae3",
   "metadata": {},
   "outputs": [
    {
     "ename": "ImportError",
     "evalue": "DLL load failed while importing lib: The specified module could not be found.",
     "output_type": "error",
     "traceback": [
      "\u001b[1;31m---------------------------------------------------------------------------\u001b[0m",
      "\u001b[1;31mImportError\u001b[0m                               Traceback (most recent call last)",
      "Cell \u001b[1;32mIn[5], line 5\u001b[0m\n\u001b[0;32m      3\u001b[0m \u001b[38;5;28;01mimport\u001b[39;00m \u001b[38;5;21;01mpandas\u001b[39;00m \u001b[38;5;28;01mas\u001b[39;00m \u001b[38;5;21;01mpd\u001b[39;00m\n\u001b[0;32m      4\u001b[0m \u001b[38;5;28;01mimport\u001b[39;00m \u001b[38;5;21;01mnumpy\u001b[39;00m \u001b[38;5;28;01mas\u001b[39;00m \u001b[38;5;21;01mnp\u001b[39;00m\n\u001b[1;32m----> 5\u001b[0m \u001b[38;5;28;01mfrom\u001b[39;00m \u001b[38;5;21;01mdatasets\u001b[39;00m \u001b[38;5;28;01mimport\u001b[39;00m Dataset\n\u001b[0;32m      6\u001b[0m \u001b[38;5;28;01mfrom\u001b[39;00m \u001b[38;5;21;01mdatasets\u001b[39;00m \u001b[38;5;28;01mimport\u001b[39;00m load_metric\n\u001b[0;32m      7\u001b[0m \u001b[38;5;28;01mfrom\u001b[39;00m \u001b[38;5;21;01mtransformers\u001b[39;00m \u001b[38;5;28;01mimport\u001b[39;00m AutoTokenizer\n",
      "File \u001b[1;32m~\\anaconda3\\lib\\site-packages\\datasets\\__init__.py:24\u001b[0m\n\u001b[0;32m     20\u001b[0m __version__ \u001b[38;5;241m=\u001b[39m \u001b[38;5;124m\"\u001b[39m\u001b[38;5;124m2.8.0\u001b[39m\u001b[38;5;124m\"\u001b[39m\n\u001b[0;32m     22\u001b[0m \u001b[38;5;28;01mimport\u001b[39;00m \u001b[38;5;21;01mplatform\u001b[39;00m\n\u001b[1;32m---> 24\u001b[0m \u001b[38;5;28;01mimport\u001b[39;00m \u001b[38;5;21;01mpyarrow\u001b[39;00m\n\u001b[0;32m     25\u001b[0m \u001b[38;5;28;01mfrom\u001b[39;00m \u001b[38;5;21;01mpackaging\u001b[39;00m \u001b[38;5;28;01mimport\u001b[39;00m version\n\u001b[0;32m     28\u001b[0m \u001b[38;5;28;01mif\u001b[39;00m version\u001b[38;5;241m.\u001b[39mparse(platform\u001b[38;5;241m.\u001b[39mpython_version()) \u001b[38;5;241m<\u001b[39m version\u001b[38;5;241m.\u001b[39mparse(\u001b[38;5;124m\"\u001b[39m\u001b[38;5;124m3.7\u001b[39m\u001b[38;5;124m\"\u001b[39m):\n",
      "File \u001b[1;32m~\\anaconda3\\lib\\site-packages\\pyarrow\\__init__.py:65\u001b[0m\n\u001b[0;32m     63\u001b[0m _gc_enabled \u001b[38;5;241m=\u001b[39m _gc\u001b[38;5;241m.\u001b[39misenabled()\n\u001b[0;32m     64\u001b[0m _gc\u001b[38;5;241m.\u001b[39mdisable()\n\u001b[1;32m---> 65\u001b[0m \u001b[38;5;28;01mimport\u001b[39;00m \u001b[38;5;21;01mpyarrow\u001b[39;00m\u001b[38;5;21;01m.\u001b[39;00m\u001b[38;5;21;01mlib\u001b[39;00m \u001b[38;5;28;01mas\u001b[39;00m \u001b[38;5;21;01m_lib\u001b[39;00m\n\u001b[0;32m     66\u001b[0m \u001b[38;5;28;01mif\u001b[39;00m _gc_enabled:\n\u001b[0;32m     67\u001b[0m     _gc\u001b[38;5;241m.\u001b[39menable()\n",
      "\u001b[1;31mImportError\u001b[0m: DLL load failed while importing lib: The specified module could not be found."
     ]
    }
   ],
   "source": [
    "import os\n",
    "import itertools\n",
    "import pandas as pd\n",
    "import numpy as np\n",
    "from datasets import Dataset\n",
    "from datasets import load_metric\n",
    "from transformers import AutoTokenizer\n",
    "from transformers import AutoModelForTokenClassification, TrainingArguments, Trainer\n",
    "from transformers import DataCollatorForTokenClassification\n",
    "import torch\n",
    "from transformers import AutoTokenizer, AutoModelForSequenceClassification, AutoModelForSeq2SeqLM\n",
    "\n",
    "tokenizer = AutoTokenizer.from_pretrained(\"facebook/mbart-large-cc25\")\n",
    "model = AutoModelForSequenceClassification.from_pretrained(\"facebook/mbart-large-cc25\", num_labels=15) # num_labels = 14 + 1\n"
   ]
  },
  {
   "cell_type": "code",
   "execution_count": 6,
   "id": "c766fa69",
   "metadata": {},
   "outputs": [
    {
     "name": "stdout",
     "output_type": "stream",
     "text": [
      "^C\n"
     ]
    }
   ],
   "source": [
    "!pip uninstall datasets"
   ]
  },
  {
   "cell_type": "code",
   "execution_count": 11,
   "id": "70dbd423",
   "metadata": {},
   "outputs": [
    {
     "name": "stdout",
     "output_type": "stream",
     "text": [
      "Unexpected exception formatting exception. Falling back to standard exception\n"
     ]
    },
    {
     "name": "stderr",
     "output_type": "stream",
     "text": [
      "Traceback (most recent call last):\n",
      "  File \"C:\\Users\\Aman\\anaconda3\\lib\\site-packages\\IPython\\core\\interactiveshell.py\", line 3442, in run_code\n",
      "    exec(code_obj, self.user_global_ns, self.user_ns)\n",
      "  File \"C:\\Users\\Aman\\AppData\\Local\\Temp\\ipykernel_2092\\3042410005.py\", line 1, in <module>\n",
      "    import datasets\n",
      "  File \"C:\\Users\\Aman\\anaconda3\\lib\\site-packages\\datasets\\__init__.py\", line 23, in <module>\n",
      "    import pyarrow\n",
      "  File \"C:\\Users\\Aman\\anaconda3\\lib\\site-packages\\pyarrow\\__init__.py\", line 65, in <module>\n",
      "    import pyarrow.lib as _lib\n",
      "ImportError: DLL load failed while importing lib: The specified module could not be found.\n",
      "\n",
      "During handling of the above exception, another exception occurred:\n",
      "\n",
      "Traceback (most recent call last):\n",
      "  File \"C:\\Users\\Aman\\anaconda3\\lib\\site-packages\\IPython\\core\\interactiveshell.py\", line 2057, in showtraceback\n",
      "    stb = self.InteractiveTB.structured_traceback(\n",
      "  File \"C:\\Users\\Aman\\anaconda3\\lib\\site-packages\\IPython\\core\\ultratb.py\", line 1118, in structured_traceback\n",
      "    return FormattedTB.structured_traceback(\n",
      "  File \"C:\\Users\\Aman\\anaconda3\\lib\\site-packages\\IPython\\core\\ultratb.py\", line 1012, in structured_traceback\n",
      "    return VerboseTB.structured_traceback(\n",
      "  File \"C:\\Users\\Aman\\anaconda3\\lib\\site-packages\\IPython\\core\\ultratb.py\", line 865, in structured_traceback\n",
      "    formatted_exception = self.format_exception_as_a_whole(etype, evalue, etb, number_of_lines_of_context,\n",
      "  File \"C:\\Users\\Aman\\anaconda3\\lib\\site-packages\\IPython\\core\\ultratb.py\", line 818, in format_exception_as_a_whole\n",
      "    frames.append(self.format_record(r))\n",
      "  File \"C:\\Users\\Aman\\anaconda3\\lib\\site-packages\\IPython\\core\\ultratb.py\", line 736, in format_record\n",
      "    result += ''.join(_format_traceback_lines(frame_info.lines, Colors, self.has_colors, lvals))\n",
      "  File \"C:\\Users\\Aman\\anaconda3\\lib\\site-packages\\stack_data\\utils.py\", line 145, in cached_property_wrapper\n",
      "    value = obj.__dict__[self.func.__name__] = self.func(obj)\n",
      "  File \"C:\\Users\\Aman\\anaconda3\\lib\\site-packages\\stack_data\\core.py\", line 698, in lines\n",
      "    pieces = self.included_pieces\n",
      "  File \"C:\\Users\\Aman\\anaconda3\\lib\\site-packages\\stack_data\\utils.py\", line 145, in cached_property_wrapper\n",
      "    value = obj.__dict__[self.func.__name__] = self.func(obj)\n",
      "  File \"C:\\Users\\Aman\\anaconda3\\lib\\site-packages\\stack_data\\core.py\", line 649, in included_pieces\n",
      "    pos = scope_pieces.index(self.executing_piece)\n",
      "  File \"C:\\Users\\Aman\\anaconda3\\lib\\site-packages\\stack_data\\utils.py\", line 145, in cached_property_wrapper\n",
      "    value = obj.__dict__[self.func.__name__] = self.func(obj)\n",
      "  File \"C:\\Users\\Aman\\anaconda3\\lib\\site-packages\\stack_data\\core.py\", line 628, in executing_piece\n",
      "    return only(\n",
      "  File \"C:\\Users\\Aman\\anaconda3\\lib\\site-packages\\executing\\executing.py\", line 164, in only\n",
      "    raise NotOneValueFound('Expected one value, found 0')\n",
      "executing.executing.NotOneValueFound: Expected one value, found 0\n"
     ]
    }
   ],
   "source": [
    "import datasets\n",
    "print(datasets.version)"
   ]
  },
  {
   "cell_type": "code",
   "execution_count": 10,
   "id": "d25ebab1",
   "metadata": {},
   "outputs": [
    {
     "name": "stdout",
     "output_type": "stream",
     "text": [
      "Collecting datasets==1.2.1\n",
      "  Downloading datasets-1.2.1-py3-none-any.whl (159 kB)\n",
      "     -------------------------------------- 159.7/159.7 kB 3.2 MB/s eta 0:00:00\n",
      "Requirement already satisfied: dill in c:\\users\\aman\\anaconda3\\lib\\site-packages (from datasets==1.2.1) (0.3.6)\n",
      "Requirement already satisfied: pandas in c:\\users\\aman\\anaconda3\\lib\\site-packages (from datasets==1.2.1) (1.4.4)\n",
      "Requirement already satisfied: pyarrow>=0.17.1 in c:\\users\\aman\\anaconda3\\lib\\site-packages (from datasets==1.2.1) (8.0.0)\n",
      "Requirement already satisfied: requests>=2.19.0 in c:\\users\\aman\\anaconda3\\lib\\site-packages (from datasets==1.2.1) (2.28.1)\n",
      "Requirement already satisfied: multiprocess in c:\\users\\aman\\anaconda3\\lib\\site-packages (from datasets==1.2.1) (0.70.14)\n",
      "Requirement already satisfied: numpy>=1.17 in c:\\users\\aman\\anaconda3\\lib\\site-packages (from datasets==1.2.1) (1.23.5)\n",
      "Requirement already satisfied: xxhash in c:\\users\\aman\\anaconda3\\lib\\site-packages (from datasets==1.2.1) (3.2.0)\n",
      "Collecting tqdm<4.50.0,>=4.27\n",
      "  Downloading tqdm-4.49.0-py2.py3-none-any.whl (69 kB)\n",
      "     ---------------------------------------- 69.8/69.8 kB 3.7 MB/s eta 0:00:00\n",
      "Requirement already satisfied: urllib3<1.27,>=1.21.1 in c:\\users\\aman\\anaconda3\\lib\\site-packages (from requests>=2.19.0->datasets==1.2.1) (1.26.14)\n",
      "Requirement already satisfied: idna<4,>=2.5 in c:\\users\\aman\\anaconda3\\lib\\site-packages (from requests>=2.19.0->datasets==1.2.1) (3.4)\n",
      "Requirement already satisfied: certifi>=2017.4.17 in c:\\users\\aman\\anaconda3\\lib\\site-packages (from requests>=2.19.0->datasets==1.2.1) (2022.12.7)\n",
      "Requirement already satisfied: charset-normalizer<3,>=2 in c:\\users\\aman\\anaconda3\\lib\\site-packages (from requests>=2.19.0->datasets==1.2.1) (2.0.4)\n",
      "Requirement already satisfied: pytz>=2020.1 in c:\\users\\aman\\anaconda3\\lib\\site-packages (from pandas->datasets==1.2.1) (2022.7)\n",
      "Requirement already satisfied: python-dateutil>=2.8.1 in c:\\users\\aman\\anaconda3\\lib\\site-packages (from pandas->datasets==1.2.1) (2.8.2)\n",
      "Requirement already satisfied: six>=1.5 in c:\\users\\aman\\anaconda3\\lib\\site-packages (from python-dateutil>=2.8.1->pandas->datasets==1.2.1) (1.16.0)\n",
      "Installing collected packages: tqdm, datasets\n",
      "  Attempting uninstall: tqdm\n",
      "    Found existing installation: tqdm 4.64.1\n",
      "    Uninstalling tqdm-4.64.1:\n",
      "      Successfully uninstalled tqdm-4.64.1\n",
      "  Attempting uninstall: datasets\n",
      "    Found existing installation: datasets 2.8.0\n",
      "    Uninstalling datasets-2.8.0:\n",
      "      Successfully uninstalled datasets-2.8.0\n",
      "Successfully installed datasets-1.2.1 tqdm-4.49.0\n"
     ]
    },
    {
     "name": "stderr",
     "output_type": "stream",
     "text": [
      "ERROR: pip's dependency resolver does not currently take into account all the packages that are installed. This behaviour is the source of the following dependency conflicts.\n",
      "evaluate 0.4.0 requires datasets>=2.0.0, but you have datasets 1.2.1 which is incompatible.\n",
      "evaluate 0.4.0 requires tqdm>=4.62.1, but you have tqdm 4.49.0 which is incompatible.\n",
      "anaconda-client 1.11.0 requires tqdm>=4.56.0, but you have tqdm 4.49.0 which is incompatible.\n"
     ]
    }
   ],
   "source": [
    "!pip install datasets==1.2.1"
   ]
  },
  {
   "cell_type": "code",
   "execution_count": null,
   "id": "932ffa4a",
   "metadata": {},
   "outputs": [],
   "source": []
  }
 ],
 "metadata": {
  "kernelspec": {
   "display_name": "Python 3 (ipykernel)",
   "language": "python",
   "name": "python3"
  },
  "language_info": {
   "codemirror_mode": {
    "name": "ipython",
    "version": 3
   },
   "file_extension": ".py",
   "mimetype": "text/x-python",
   "name": "python",
   "nbconvert_exporter": "python",
   "pygments_lexer": "ipython3",
   "version": "3.9.12"
  }
 },
 "nbformat": 4,
 "nbformat_minor": 5
}
