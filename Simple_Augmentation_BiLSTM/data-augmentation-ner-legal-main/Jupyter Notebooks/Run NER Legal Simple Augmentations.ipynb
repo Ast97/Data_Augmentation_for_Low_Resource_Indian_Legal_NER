{
 "cells": [
  {
   "cell_type": "code",
   "execution_count": null,
   "id": "6e2f96f1",
   "metadata": {},
   "outputs": [],
   "source": []
  },
  {
   "cell_type": "code",
   "execution_count": 1,
   "id": "10ae838f",
   "metadata": {},
   "outputs": [
    {
     "name": "stdout",
     "output_type": "stream",
     "text": [
      "Save to ./data/bio_format/NER_DEV_JUDGEMENT.txt\n",
      "Save to ./data/bio_format/NER_DEV_PREAMBLE.txt\n",
      "Save to ./data/bio_format/NER_TRAIN_JUDGEMENT.txt\n",
      "Save to ./data/bio_format/NER_TRAIN_PREAMBLE.txt\n"
     ]
    }
   ],
   "source": [
    "#Convert to BIO Form\n",
    "!python ner_scripts/preprocess_wikiann.py --in_file ./data/raw_test/NER_DEV_JUDGEMENT.json --out_file ./data/bio_format/NER_DEV_JUDGEMENT.txt\n",
    "!python ner_scripts/preprocess_wikiann.py --in_file ./data/raw_test/NER_DEV_PREAMBLE.json --out_file ./data/bio_format/NER_DEV_PREAMBLE.txt\n",
    "!python ner_scripts/preprocess_wikiann.py --in_file ./data/raw_train/NER_TRAIN_JUDGEMENT.json --out_file ./data/bio_format/NER_TRAIN_JUDGEMENT.txt\n",
    "!python ner_scripts/preprocess_wikiann.py --in_file ./data/raw_train/NER_TRAIN_PREAMBLE.json --out_file ./data/bio_format/NER_TRAIN_PREAMBLE.txt"
   ]
  },
  {
   "cell_type": "code",
   "execution_count": 4,
   "id": "8489664f",
   "metadata": {},
   "outputs": [
    {
     "name": "stdout",
     "output_type": "stream",
     "text": [
      "Length of Train, Test and Dev -  332332 49334 142428\n"
     ]
    }
   ],
   "source": [
    "#Merge Files to create Train and Test\n",
    "with open('./data/bio_format/NER_DEV_JUDGEMENT.txt', 'r', encoding=\"utf-8\") as f:\n",
    "    NER_DEV_JUDGEMENT = f.readlines()\n",
    "    f.close()\n",
    "with open('./data/bio_format/NER_DEV_PREAMBLE.txt', 'r', encoding=\"utf-8\") as f:\n",
    "    NER_DEV_PREAMBLE = f.readlines()\n",
    "    f.close()\n",
    "with open('./data/bio_format/NER_TRAIN_JUDGEMENT.txt', 'r', encoding=\"utf-8\") as f:\n",
    "    NER_TRAIN_JUDGEMENT = f.readlines()\n",
    "    f.close()\n",
    "with open('./data/bio_format/NER_TRAIN_PREAMBLE.txt', 'r', encoding=\"utf-8\") as f:\n",
    "    NER_TRAIN_PREAMBLE = f.readlines()\n",
    "    f.close()\n",
    "\n",
    "test = NER_DEV_JUDGEMENT + NER_DEV_PREAMBLE\n",
    "train = NER_TRAIN_JUDGEMENT + NER_TRAIN_PREAMBLE\n",
    "split_index = int(len(train) * 0.30)\n",
    "dev = train[:split_index]\n",
    "train = train[split_index:]\n",
    "\n",
    "print('Length of Train, Test and Dev - ', len(train), len(test), len(dev))\n",
    "\n",
    "import os\n",
    "#os.mkdir('./src/datasets/___1.1/')\n",
    "\n",
    "with open('./src/datasets/___1.1/test.txt', 'w', encoding=\"utf-8\") as f:\n",
    "    for line in test:\n",
    "        f.write(line)\n",
    "    f.close()\n",
    "with open('./src/datasets/___1.1/train.txt', 'w', encoding=\"utf-8\") as f:\n",
    "    for line in train:\n",
    "        f.write(line)\n",
    "    f.close()\n",
    "with open('./src/datasets/___1.1/dev.txt', 'w', encoding=\"utf-8\") as f:\n",
    "    for line in dev:\n",
    "        f.write(line)\n",
    "    f.close()"
   ]
  },
  {
   "cell_type": "code",
   "execution_count": 5,
   "id": "1a609792",
   "metadata": {},
   "outputs": [],
   "source": [
    "!conda activate flair-gpu"
   ]
  },
  {
   "cell_type": "code",
   "execution_count": 6,
   "id": "e4c44908",
   "metadata": {},
   "outputs": [
    {
     "name": "stdout",
     "output_type": "stream",
     "text": [
      "['.ipynb_checkpoints', 'linearize_ner.py', 'preprocess_wikiann.py']\n"
     ]
    }
   ],
   "source": [
    "import os\n",
    "print(os.listdir('./ner_scripts'))"
   ]
  },
  {
   "cell_type": "code",
   "execution_count": 7,
   "id": "aa534f3c",
   "metadata": {},
   "outputs": [],
   "source": [
    "os.chdir('./src')"
   ]
  },
  {
   "cell_type": "code",
   "execution_count": 9,
   "id": "b34e4dc5",
   "metadata": {},
   "outputs": [
    {
     "name": "stdout",
     "output_type": "stream",
     "text": [
      "^C\n"
     ]
    }
   ],
   "source": [
    "#Performing Synonym Replacement with Source thesaurus\n",
    "!python aug/synonym_replace.py datasets/___1.1 0.2 thesaurus\n",
    "#!python aug/synonym_replace.py datasets/___1.1 0.4 the\n",
    "#!python aug/synonym_replace.py datasets/___1.1 0.6 the"
   ]
  },
  {
   "cell_type": "code",
   "execution_count": null,
   "id": "56e01990",
   "metadata": {},
   "outputs": [],
   "source": [
    "#Performing Synonym Replacement with Source clm\n",
    "#!python aug/synonym_replace.py datasets/___1.1 0.2 clm\n",
    "#!python aug/synonym_replace.py datasets/___1.1 0.4 clm\n",
    "#!python aug/synonym_replace.py datasets/___1.1 0.6 clm"
   ]
  },
  {
   "cell_type": "code",
   "execution_count": null,
   "id": "f193a726",
   "metadata": {},
   "outputs": [
    {
     "name": "stdout",
     "output_type": "stream",
     "text": [
      "Active code page: 65001\n"
     ]
    }
   ],
   "source": [
    "#Performing Synonym Replacement with Source fasttext\n",
    "!chcp 65001\n",
    "!python aug/synonym_replace.py datasets/___1.1 0.2 fasttext\n",
    "#!python aug/synonym_replace.py datasets/___1.1 0.4 fasttext\n",
    "#!python aug/synonym_replace.py datasets/___1.1 0.6 fasttext"
   ]
  },
  {
   "cell_type": "code",
   "execution_count": null,
   "id": "a5a3fcdd",
   "metadata": {},
   "outputs": [],
   "source": [
    "!python aug/mention_replace.py datasets/___1.0"
   ]
  },
  {
   "cell_type": "code",
   "execution_count": null,
   "id": "29bdb25a",
   "metadata": {},
   "outputs": [],
   "source": [
    "!python aug/backtranslate.py datasets/___1.0"
   ]
  },
  {
   "cell_type": "code",
   "execution_count": null,
   "id": "cccbdeb6",
   "metadata": {},
   "outputs": [],
   "source": [
    "    "
   ]
  }
 ],
 "metadata": {
  "kernelspec": {
   "display_name": "Python 3 (ipykernel)",
   "language": "python",
   "name": "python3"
  },
  "language_info": {
   "codemirror_mode": {
    "name": "ipython",
    "version": 3
   },
   "file_extension": ".py",
   "mimetype": "text/x-python",
   "name": "python",
   "nbconvert_exporter": "python",
   "pygments_lexer": "ipython3",
   "version": "3.9.12"
  }
 },
 "nbformat": 4,
 "nbformat_minor": 5
}
